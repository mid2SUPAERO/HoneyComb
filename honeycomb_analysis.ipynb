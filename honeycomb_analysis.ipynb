{
 "cells": [
  {
   "cell_type": "code",
   "execution_count": 6,
   "metadata": {},
   "outputs": [],
   "source": [
    "\n",
    "import numpy as np\n",
    "from scipy.optimize import minimize\n"
   ]
  },
  {
   "cell_type": "code",
   "execution_count": 7,
   "metadata": {},
   "outputs": [],
   "source": [
    "# Constants (replace with actual values)\n",
    "E_s = 11e6  # Young's modulus of the Aluminium solid material (Pa)\n",
    "sigma_ys = 30e6  # Yield strength of the solid Aluminium material (Pa)\n",
    "sigma_fs = 750e6  # Fracture strength of the solid Aluminium material (Pa)\n",
    "nu_s = 0.33  # Poisson's ratio of the solid material\n",
    "n = 1  # End constraint factor (for example purposes)\n",
    "# Angle for hexagonal honeycombs\n",
    "theta = 30\n",
    "theta_rad = np.radians(theta)\n"
   ]
  },
  {
   "cell_type": "code",
   "execution_count": 8,
   "metadata": {},
   "outputs": [],
   "source": [
    "# Define the analytical equations based on Gibson's General formulas\n",
    "def youngs_modulus_E1(t, l, h):\n",
    "    return (E_s * np.cos(theta_rad) * (t / l) ** 3) / ((h / l + np.sin(theta_rad)) * np.sin(theta_rad) ** 2)\n",
    "\n",
    "def youngs_modulus_E2(t, l, h):\n",
    "    return (E_s * (h / l + np.sin(theta_rad)) * (t / l) ** 3) / (np.cos(theta_rad) ** 3)\n",
    "\n",
    "def shear_modulus_G12(t, l, h):\n",
    "    return (E_s * (h / l + np.sin(theta_rad)) * (t / l) ** 3) / np.cos(theta_rad)\n",
    "\n",
    "def poisson_ratio(l, h):\n",
    "    return np.cos(theta_rad) ** 2 / ((h / l + np.sin(theta_rad)) * np.sin(theta_rad))\n",
    "\n",
    "def elastic_buckling_stress(t, l, h):\n",
    "    return (n ** 2 * np.pi ** 2 * E_s * (t / l) ** 3) / (24 * (h / l) ** 2 * np.cos(theta_rad))\n",
    "\n",
    "def plastic_yield_stress(t, l, h):\n",
    "    return sigma_ys * (t / l) ** 2 / (2 * (h / l + np.sin(theta_rad)) * np.sin(theta_rad))\n",
    "\n",
    "def brittle_crushing_stress(t, l, h):\n",
    "    return sigma_fs * (t / l) ** 2 / (3 * (h / l + np.sin(theta_rad)) * np.sin(theta_rad))\n"
   ]
  },
  {
   "cell_type": "code",
   "execution_count": 9,
   "metadata": {},
   "outputs": [
    {
     "name": "stdout",
     "output_type": "stream",
     "text": [
      "Side length of the hexagon (l): 2.886751345948129\n",
      "Volume percentage of the hexagon in the cube: 0.057920739019183674\n"
     ]
    }
   ],
   "source": [
    "def area_hexagon(t, l, h):\n",
    "    return 3 * l * t + 2 * h * t\n",
    "\n",
    "def volume_surface(t, l, h):\n",
    "    # Width of the cube\n",
    "    W = 2 * l * np.cos(theta_rad)\n",
    "    # Height of the cube\n",
    "    H = h + l * np.sin(theta_rad)\n",
    "    # Volume of the cube\n",
    "    area_cube = W * H\n",
    "    # Volume of the hexagon\n",
    "    area_h = area_hexagon(t, l, h)\n",
    "    # Volume percentage\n",
    "    volume_percentage = area_h / area_cube\n",
    "    \n",
    "    return volume_percentage * 100\n",
    "\n",
    "# Calculate the volume percentage\n",
    "l = 5 / np.sqrt(3)\n",
    "volume_percentage_result = volume_surface(0.001, l, 5)\n",
    "\n",
    "print(f\"Side length of the hexagon (l): {l}\")\n",
    "print(f\"Volume percentage of the hexagon in the cube: {volume_percentage_result}\")\n",
    "\n"
   ]
  },
  {
   "cell_type": "code",
   "execution_count": 10,
   "metadata": {},
   "outputs": [
    {
     "name": "stdout",
     "output_type": "stream",
     "text": [
      "The structure is a regular hexagonal structure: True\n",
      "Young's Modulus E1: 25403.411844343547\n",
      "Young's Modulus E2: 25403.411844343533\n",
      "Shear Modulus G12: 19052.558883257654\n",
      "Poisson's Ratio: 1.0000000000000002\n",
      "Elastic Buckling Stress: 5223.3671946170525\n",
      "Plastic Yield Stress: 200000.00000000006\n",
      "Brittle Crushing Stress: 3333333.333333335\n"
     ]
    }
   ],
   "source": [
    "# Function to check if the structure is regular hexagonal based on Gibson (theta=30 and h/l=1)\n",
    "def check_hexagonal_structure(theta, h_l):\n",
    "    # Regular hexagonal structure conditions\n",
    "    regular_theta = 30\n",
    "    regular_h_l = 1\n",
    "    \n",
    "    return np.isclose(theta, regular_theta) and np.isclose(h / l, regular_h_l)\n",
    "\n",
    "# Example parameters for regular hexagonal structure\n",
    "t = 0.1  # Thickness\n",
    "l = 1.0  # Length\n",
    "h = 1.0  # Height\n",
    "theta = 30  # Angle in degrees\n",
    "h_l = h / l\n",
    "\n",
    "# Check if the structure is a regular hexagon\n",
    "is_regular_hexagonal = check_hexagonal_structure(theta, h_l)\n",
    "print(\"The structure is a regular hexagonal structure:\", is_regular_hexagonal)\n",
    "\n",
    "if is_regular_hexagonal:\n",
    "    # Calculate properties for a regular hexagonal structure\n",
    "    E1 = youngs_modulus_E1(t, l, h)\n",
    "    E2 = youngs_modulus_E2(t, l, h)\n",
    "    G12 = shear_modulus_G12(t, l, h)\n",
    "    nu = poisson_ratio(l, h)\n",
    "    sigma_el = elastic_buckling_stress(t, l, h)\n",
    "    sigma_pl = plastic_yield_stress(t, l, h)\n",
    "    sigma_cr = brittle_crushing_stress(t, l, h)\n",
    "    \n",
    "    print(f\"Young's Modulus E1: {E1}\")\n",
    "    print(f\"Young's Modulus E2: {E2}\")\n",
    "    print(f\"Shear Modulus G12: {G12}\")\n",
    "    print(f\"Poisson's Ratio: {nu}\")\n",
    "    print(f\"Elastic Buckling Stress: {sigma_el}\")\n",
    "    print(f\"Plastic Yield Stress: {sigma_pl}\")\n",
    "    print(f\"Brittle Crushing Stress: {sigma_cr}\")\n",
    "else:\n",
    "    print(\"The provided parameters do not correspond to a regular hexagonal structure.\")\n"
   ]
  }
 ],
 "metadata": {
  "kernelspec": {
   "display_name": "Python 3",
   "language": "python",
   "name": "python3"
  },
  "language_info": {
   "codemirror_mode": {
    "name": "ipython",
    "version": 3
   },
   "file_extension": ".py",
   "mimetype": "text/x-python",
   "name": "python",
   "nbconvert_exporter": "python",
   "pygments_lexer": "ipython3",
   "version": "3.12.4"
  }
 },
 "nbformat": 4,
 "nbformat_minor": 2
}
